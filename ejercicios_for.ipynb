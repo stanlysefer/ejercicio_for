{
  "nbformat": 4,
  "nbformat_minor": 0,
  "metadata": {
    "colab": {
      "provenance": [],
      "authorship_tag": "ABX9TyO5Wjh6gn/WtP1jlLNl6gmw",
      "include_colab_link": true
    },
    "kernelspec": {
      "name": "python3",
      "display_name": "Python 3"
    },
    "language_info": {
      "name": "python"
    }
  },
  "cells": [
    {
      "cell_type": "markdown",
      "metadata": {
        "id": "view-in-github",
        "colab_type": "text"
      },
      "source": [
        "<a href=\"https://colab.research.google.com/github/stanlysefer/ejercicio_for/blob/main/ejercicios_for.ipynb\" target=\"_parent\"><img src=\"https://colab.research.google.com/assets/colab-badge.svg\" alt=\"Open In Colab\"/></a>"
      ]
    },
    {
      "cell_type": "markdown",
      "source": [
        "#Instrucción repetitiva for"
      ],
      "metadata": {
        "id": "SvAHgvT9rJMm"
      }
    },
    {
      "cell_type": "code",
      "execution_count": null,
      "metadata": {
        "id": "wHOiOKeeqWNM"
      },
      "outputs": [],
      "source": [
        "#EJERCICIO 1: mostrar los números del 1 al 10 sin usar instrucciones repetitivas\n",
        "print(1)\n",
        "print(2)\n",
        "print(3)\n",
        "print(4)\n",
        "print(5)\n",
        "print(6)\n",
        "print(7)\n",
        "print(8)\n",
        "print(9)\n",
        "print(10)\n"
      ]
    },
    {
      "cell_type": "code",
      "source": [
        "#EJERCICIO 2: mostrar los números de 1 al 10 utilizando while\n",
        " \n",
        "contador = 1\n",
        "print(contador)\n",
        "while contador <10:\n",
        "   #Contador = contador + 1\n",
        "   contador += 1\n",
        "   print(contador)"
      ],
      "metadata": {
        "id": "t5pJDXq0tem5"
      },
      "execution_count": null,
      "outputs": []
    },
    {
      "cell_type": "code",
      "source": [
        "# EJERCICIO 3: mostrar los números del 1 al 10 usando la instrucción for y una lista como iterable\n",
        "\n",
        "lista = [1,2,3,4,5,6,7,8,9,10]\n",
        "for i in lista:\n",
        "  print(i)"
      ],
      "metadata": {
        "id": "S05LlBhHvQ0S"
      },
      "execution_count": null,
      "outputs": []
    },
    {
      "cell_type": "markdown",
      "source": [],
      "metadata": {
        "id": "rPZnzPP5q-_r"
      }
    },
    {
      "cell_type": "code",
      "source": [
        "# EJERCICIO 4: mostrar los números del 1 al 10, utilizando la instrucción for y range\n",
        "\n",
        "for i in range(1,11):\n",
        "  print(i)"
      ],
      "metadata": {
        "id": "U_JMv99kw03G"
      },
      "execution_count": null,
      "outputs": []
    },
    {
      "cell_type": "code",
      "source": [
        "# EJERCICIO 5: mostrar una frase 10 veces, usando la instrucción for y una lista\n",
        "lista = [1,2,3,4,5,6,7,8,9,10]\n",
        "for i in lista:\n",
        "  print(f\"{i} ¡sistemas, la mejor..!\")"
      ],
      "metadata": {
        "id": "Mid_O5F7xfs_"
      },
      "execution_count": null,
      "outputs": []
    },
    {
      "cell_type": "code",
      "source": [
        "# EJERCICIO 6: mostrar la , silaba inicial de los dias de la semana, usando for y una lista con la silaba inicial de los dias de la semana\n",
        "\n",
        "dias_semana = [\"lu\", \"ma\", \"mi\", \"ju\", \"vi\", \"sa\", \"do\"]\n",
        "for i in dias_semana:\n",
        "  print(i)"
      ],
      "metadata": {
        "id": "jo3etRAuyiE3"
      },
      "execution_count": null,
      "outputs": []
    },
    {
      "cell_type": "code",
      "source": [
        "# EJERCICIO 7: mostrar una lista de distintos tipos de datos usando for \n",
        "\n",
        "lista =[1, 3.4, 9, True , \"nestor\", 8, \"guanenta\"]\n",
        "for i in lista:\n",
        "  print(i)\n"
      ],
      "metadata": {
        "id": "DK0ZI6I7zh0H"
      },
      "execution_count": null,
      "outputs": []
    },
    {
      "cell_type": "code",
      "source": [
        "# EJERCICIO 8: ingrese su nombre y mostrarlo letra a letra, usando for\n",
        "\n",
        "nombre = input(\"Digite su nombre: \")\n",
        "for letra in nombre:\n",
        "  print(letra)"
      ],
      "metadata": {
        "id": "icGu7Gn50MM9"
      },
      "execution_count": null,
      "outputs": []
    },
    {
      "cell_type": "code",
      "source": [
        "# EJERCICIO 9: ingresar nombre y mstrarlo letra a letra usando for cambiando por asterisco * a la vocal e\n",
        "\n",
        "nombre = input(\"Digite su nombre: \")\n",
        "for letra in nombre:\n",
        "  if letra == \"e\":\n",
        "    print(\"*\")\n",
        "  else:\n",
        "    print(letra)"
      ],
      "metadata": {
        "id": "BrAzadTS06vV"
      },
      "execution_count": null,
      "outputs": []
    },
    {
      "cell_type": "code",
      "source": [
        "# EJERCICIO 10: ingrese su nombre y mostrarlo letra a letra,en mayúscula, usando for.\n",
        "\n",
        "nombre = input(\"Digite su nombre: \")\n",
        "for letra in nombre:\n",
        "  print(letra.upper())\n",
        "\n"
      ],
      "metadata": {
        "id": "1N54UOWC_17t"
      },
      "execution_count": null,
      "outputs": []
    },
    {
      "cell_type": "code",
      "source": [
        "# EJERCICIO 11: imprimirlistas de números utilizando for y range\n",
        "print(\" números del 0 al 9\")\n",
        "for i in range(10):\n",
        "  print(i)\n",
        "\n",
        "\n",
        "print(\"números del 1 al 10\")\n",
        "for i in range(1,11):\n",
        "  print(i)\n",
        "\n",
        "\n",
        "print(\"10 veces la frase\")\n",
        "for i in range(10):\n",
        "  print(\"sistemas la mejor\")\n",
        "\n",
        "\n",
        "print(\"10 veces la frase i = \")\n",
        "for i in range(10):\n",
        "  print(\"i = \" + str(i))\n",
        "\n",
        "\n",
        "print(\"10 veces la frase i = \")\n",
        "for i in range(10):\n",
        "  print(f\"i = {i}\")\n",
        "\n",
        "print(\"rango del 7 al 18, incrementandode 4 en 4\")\n",
        "for i in range(7,19,4):\n",
        "  print(i)\n",
        "\n",
        "\n",
        "print(\"convierte rango en lista a, y la muestra\")\n",
        "a = list (range(1000))\n",
        "print(a)\n",
        "\n",
        "\n",
        "\n"
      ],
      "metadata": {
        "id": "-qcZJnotBLwZ"
      },
      "execution_count": null,
      "outputs": []
    },
    {
      "cell_type": "code",
      "source": [
        "#DESARROLLO\n",
        "#1.Dada la siguiente Lista de números, [20, 21, 30, 41, 50, 51, 201] mostrar en pantalla solo los que NO terminan en 1.\n",
        "\n",
        "list=[20, 21, 30, 41, 50, 51, 201]\n",
        "for n in list:\n",
        "  if n % 10 == 0:\n",
        "    print(n)\n",
        "  \n"
      ],
      "metadata": {
        "id": "cmCZhzykKV05"
      },
      "execution_count": null,
      "outputs": []
    },
    {
      "cell_type": "code",
      "source": [
        "#2.Mostrar 1000 veces la palabra \"Programacion\"\n",
        "for i in range(1,1000):\n",
        "  print(f\"{i} programacion\")\n"
      ],
      "metadata": {
        "id": "9W5J-TzFLl2X"
      },
      "execution_count": null,
      "outputs": []
    },
    {
      "cell_type": "code",
      "source": [
        "#3.Del conjunto de cadenas [\"E\", \"F\", \"M”, *A\"] que corresponden a las iniciales de Los primeros cuatro meses del año, mostrar el nombre completo de dichos meses.\n",
        "\n",
        "primeros_meses= [\"E\", \"F\", \"M\", \"A\"] \n",
        "meses_año=[\"ENERO\", \"FEBRERO\", \"MARZO\", \"ABRIL\"]\n",
        "for i in meses_año:\n",
        "  print(i)"
      ],
      "metadata": {
        "id": "pH4MsagGMzc8"
      },
      "execution_count": null,
      "outputs": []
    },
    {
      "cell_type": "code",
      "source": [
        "#4.Leer un texto y determinar cuántas veces dicho texto contiene cada una de las vocales en minuscula y/o mayúscula\n",
        "\n",
        "texto = input(\"Ingresa un texto: \")\n",
        "vocales = {'a': 0, 'e': 0, 'i': 0, 'o': 0, 'u': 0, 'A': 0, 'E': 0, 'I': 0, 'O': 0, 'U': 0}\n",
        "\n",
        "for letra in texto:\n",
        "    if letra in vocales:\n",
        "        vocales[letra] += 1\n",
        "\n",
        "print(\"Vocales en el texto:\")\n",
        "for vocal, cantidad in vocales.items():\n",
        "    print(f\"{vocal}: {cantidad}\")\n"
      ],
      "metadata": {
        "id": "UJCtixA4RBoW"
      },
      "execution_count": null,
      "outputs": []
    },
    {
      "cell_type": "markdown",
      "source": [
        "#ejercicios \n",
        "1. Dada la siguiente Lista de números, [20, 21, 30, 41, 50, 51, 201] mostrar en\n",
        "pantalla solo los que NO terminan en 1.\n",
        "\n",
        "2. Mostrar 1000 veces la palabra \"Programacion\"\n",
        "\n",
        "3. Del conjunto de cadenas [\"E\", \"F\", \"M”, *A\"] que corresponden a las\n",
        "iniciales de Los primeros cuatro meses del año, mostrar el nombre completo de\n",
        "dichos meses.\n",
        "\n",
        "4. Leer un texto y determinar cuántas veces dicho texto contiene cada una de\n",
        "las vocales en minuscula y/o mayúscula\n"
      ],
      "metadata": {
        "id": "Y_hBlMaeHwwv"
      }
    },
    {
      "cell_type": "markdown",
      "source": [],
      "metadata": {
        "id": "yXUsc00Z0cUg"
      }
    }
  ]
}